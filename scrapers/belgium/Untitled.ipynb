{
 "cells": [
  {
   "cell_type": "code",
   "execution_count": 37,
   "id": "69c8951c-73e1-4d08-9447-e5e07a6b6626",
   "metadata": {},
   "outputs": [],
   "source": [
    "import pandas as pd\n",
    "import csv"
   ]
  },
  {
   "cell_type": "markdown",
   "id": "7f4469ac-ead5-4a27-93a8-e9e9dc05fee9",
   "metadata": {},
   "source": [
    "Read csv"
   ]
  },
  {
   "cell_type": "code",
   "execution_count": 38,
   "id": "f9896d9e-547a-4a57-a9f3-4ff1c52c7784",
   "metadata": {},
   "outputs": [],
   "source": [
    "df = pd.read_csv(\"abraham_catalogue_belgian_newspapers.csv\", on_bad_lines='skip')"
   ]
  },
  {
   "cell_type": "code",
   "execution_count": 39,
   "id": "6d9aefd7-3c2c-4605-ab44-facb6b22397e",
   "metadata": {},
   "outputs": [],
   "source": [
    "df = df[['title', 'language', 'place_of_issue', 'publisher', 'year_display_begin', 'year_display_end', 'format', 'medium', 'related_titles' ,'online_editions']]"
   ]
  },
  {
   "cell_type": "markdown",
   "id": "cd30f61f-13c2-4fb3-9ea8-c3348ae297a3",
   "metadata": {},
   "source": [
    "Filter for newspapers without a year cease date. "
   ]
  },
  {
   "cell_type": "code",
   "execution_count": 40,
   "id": "95be6e73-0722-422d-b230-f2b04032ed1c",
   "metadata": {},
   "outputs": [],
   "source": [
    "df = df[df['year_display_end'].isna() == True]"
   ]
  },
  {
   "cell_type": "markdown",
   "id": "9a7286a6-4b44-4e81-86f1-395a01151465",
   "metadata": {},
   "source": [
    "Filter for newspapers with an online publication"
   ]
  },
  {
   "cell_type": "code",
   "execution_count": 41,
   "id": "2cec79b4-62fb-4d3d-8b33-537662c5a3f7",
   "metadata": {},
   "outputs": [],
   "source": [
    "df = df[df['medium'].str.contains('digi') == True]"
   ]
  },
  {
   "cell_type": "code",
   "execution_count": 45,
   "id": "ecd1a37a-3205-43dd-b3de-27ee445df988",
   "metadata": {},
   "outputs": [],
   "source": [
    "df.to_excel(\"belgian_newspapers.xlsx\")"
   ]
  }
 ],
 "metadata": {
  "kernelspec": {
   "display_name": "Python 3 (ipykernel)",
   "language": "python",
   "name": "python3"
  },
  "language_info": {
   "codemirror_mode": {
    "name": "ipython",
    "version": 3
   },
   "file_extension": ".py",
   "mimetype": "text/x-python",
   "name": "python",
   "nbconvert_exporter": "python",
   "pygments_lexer": "ipython3",
   "version": "3.10.12"
  }
 },
 "nbformat": 4,
 "nbformat_minor": 5
}
